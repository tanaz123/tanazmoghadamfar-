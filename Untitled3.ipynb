{
  "nbformat": 4,
  "nbformat_minor": 0,
  "metadata": {
    "colab": {
      "name": "Untitled3.ipynb",
      "provenance": [],
      "collapsed_sections": [],
      "mount_file_id": "1ekDDTa5xgcbtsU8VXTDDbmKM6OtGg1sT",
      "authorship_tag": "ABX9TyMqnqBMyhUcujT7LM8BAD1r",
      "include_colab_link": true
    },
    "kernelspec": {
      "name": "python3",
      "display_name": "Python 3"
    }
  },
  "cells": [
    {
      "cell_type": "markdown",
      "metadata": {
        "id": "view-in-github",
        "colab_type": "text"
      },
      "source": [
        "<a href=\"https://colab.research.google.com/github/tanaz123/tanazmoghadamfar-/blob/master/Untitled3.ipynb\" target=\"_parent\"><img src=\"https://colab.research.google.com/assets/colab-badge.svg\" alt=\"Open In Colab\"/></a>"
      ]
    },
    {
      "cell_type": "code",
      "metadata": {
        "id": "UTWsxeGFZyVq",
        "outputId": "709e8390-9eb3-42e2-b15d-576b3a91e317",
        "colab": {
          "base_uri": "https://localhost:8080/",
          "height": 54
        }
      },
      "source": [
        "from google.colab import drive\n",
        "drive.mount(\"/content/drive\")"
      ],
      "execution_count": 3,
      "outputs": [
        {
          "output_type": "stream",
          "text": [
            "Drive already mounted at /content/drive; to attempt to forcibly remount, call drive.mount(\"/content/drive\", force_remount=True).\n"
          ],
          "name": "stdout"
        }
      ]
    },
    {
      "cell_type": "code",
      "metadata": {
        "id": "h2pyjJKqdI_6",
        "cellView": "both"
      },
      "source": [
        "#@title\n",
        "import pandas as pd\n",
        "df= pd.read_csv('/content/drive/My Drive/CHERNAIR.csv')"
      ],
      "execution_count": 14,
      "outputs": []
    },
    {
      "cell_type": "code",
      "metadata": {
        "id": "2XfFwePheuxA",
        "outputId": "a5442d5a-712e-46fb-bf82-367ce6790ece",
        "colab": {
          "base_uri": "https://localhost:8080/",
          "height": 34
        }
      },
      "source": [
        "df.shape"
      ],
      "execution_count": 15,
      "outputs": [
        {
          "output_type": "execute_result",
          "data": {
            "text/plain": [
              "(2051, 11)"
            ]
          },
          "metadata": {
            "tags": []
          },
          "execution_count": 15
        }
      ]
    },
    {
      "cell_type": "code",
      "metadata": {
        "id": "_2QIogcFfbx3",
        "outputId": "874bf895-0659-407d-d3ac-519c3238cb99",
        "colab": {
          "base_uri": "https://localhost:8080/",
          "height": 68
        }
      },
      "source": [
        "df.columns"
      ],
      "execution_count": 18,
      "outputs": [
        {
          "output_type": "execute_result",
          "data": {
            "text/plain": [
              "Index(['PAYS', 'Code', 'Ville', 'X', 'Y', 'Date', 'End of sampling',\n",
              "       'Duration(h.min)', 'I 131 (Bq/m3)', 'Cs 134 (Bq/m3)', 'Cs 137 (Bq/m3)'],\n",
              "      dtype='object')"
            ]
          },
          "metadata": {
            "tags": []
          },
          "execution_count": 18
        }
      ]
    },
    {
      "cell_type": "code",
      "metadata": {
        "id": "f8CqqR_6fy8Y",
        "outputId": "c72b0dfa-a8fa-41c3-c960-17daafc09bc1",
        "colab": {
          "base_uri": "https://localhost:8080/",
          "height": 297
        }
      },
      "source": [
        "df.describe()"
      ],
      "execution_count": 21,
      "outputs": [
        {
          "output_type": "execute_result",
          "data": {
            "text/html": [
              "<div>\n",
              "<style scoped>\n",
              "    .dataframe tbody tr th:only-of-type {\n",
              "        vertical-align: middle;\n",
              "    }\n",
              "\n",
              "    .dataframe tbody tr th {\n",
              "        vertical-align: top;\n",
              "    }\n",
              "\n",
              "    .dataframe thead th {\n",
              "        text-align: right;\n",
              "    }\n",
              "</style>\n",
              "<table border=\"1\" class=\"dataframe\">\n",
              "  <thead>\n",
              "    <tr style=\"text-align: right;\">\n",
              "      <th></th>\n",
              "      <th>Code</th>\n",
              "      <th>X</th>\n",
              "      <th>Y</th>\n",
              "      <th>Duration(h.min)</th>\n",
              "    </tr>\n",
              "  </thead>\n",
              "  <tbody>\n",
              "    <tr>\n",
              "      <th>count</th>\n",
              "      <td>2051.000000</td>\n",
              "      <td>2051.000000</td>\n",
              "      <td>2051.000000</td>\n",
              "      <td>2051.000000</td>\n",
              "    </tr>\n",
              "    <tr>\n",
              "      <th>mean</th>\n",
              "      <td>10.339834</td>\n",
              "      <td>11.960522</td>\n",
              "      <td>47.544885</td>\n",
              "      <td>20.805685</td>\n",
              "    </tr>\n",
              "    <tr>\n",
              "      <th>std</th>\n",
              "      <td>7.497841</td>\n",
              "      <td>11.298828</td>\n",
              "      <td>11.398712</td>\n",
              "      <td>41.351518</td>\n",
              "    </tr>\n",
              "    <tr>\n",
              "      <th>min</th>\n",
              "      <td>1.000000</td>\n",
              "      <td>-6.280000</td>\n",
              "      <td>0.000000</td>\n",
              "      <td>0.200000</td>\n",
              "    </tr>\n",
              "    <tr>\n",
              "      <th>25%</th>\n",
              "      <td>3.000000</td>\n",
              "      <td>5.180000</td>\n",
              "      <td>45.800000</td>\n",
              "      <td>6.000000</td>\n",
              "    </tr>\n",
              "    <tr>\n",
              "      <th>50%</th>\n",
              "      <td>8.000000</td>\n",
              "      <td>9.800000</td>\n",
              "      <td>48.460000</td>\n",
              "      <td>24.000000</td>\n",
              "    </tr>\n",
              "    <tr>\n",
              "      <th>75%</th>\n",
              "      <td>14.000000</td>\n",
              "      <td>14.500000</td>\n",
              "      <td>52.760000</td>\n",
              "      <td>24.000000</td>\n",
              "    </tr>\n",
              "    <tr>\n",
              "      <th>max</th>\n",
              "      <td>24.000000</td>\n",
              "      <td>50.680000</td>\n",
              "      <td>63.830000</td>\n",
              "      <td>700.000000</td>\n",
              "    </tr>\n",
              "  </tbody>\n",
              "</table>\n",
              "</div>"
            ],
            "text/plain": [
              "              Code            X            Y  Duration(h.min)\n",
              "count  2051.000000  2051.000000  2051.000000      2051.000000\n",
              "mean     10.339834    11.960522    47.544885        20.805685\n",
              "std       7.497841    11.298828    11.398712        41.351518\n",
              "min       1.000000    -6.280000     0.000000         0.200000\n",
              "25%       3.000000     5.180000    45.800000         6.000000\n",
              "50%       8.000000     9.800000    48.460000        24.000000\n",
              "75%      14.000000    14.500000    52.760000        24.000000\n",
              "max      24.000000    50.680000    63.830000       700.000000"
            ]
          },
          "metadata": {
            "tags": []
          },
          "execution_count": 21
        }
      ]
    },
    {
      "cell_type": "code",
      "metadata": {
        "id": "aLCcHlTlglOb",
        "outputId": "d79b646b-2b7f-4b7a-d164-fea69e83434b",
        "colab": {
          "base_uri": "https://localhost:8080/",
          "height": 34
        }
      },
      "source": [
        "import seaborn as sns\n",
        "import matplotlib.pyplot as plt\n",
        "fig=plt.figure(figsize=(10,6))"
      ],
      "execution_count": 27,
      "outputs": [
        {
          "output_type": "display_data",
          "data": {
            "text/plain": [
              "<Figure size 720x432 with 0 Axes>"
            ]
          },
          "metadata": {
            "tags": []
          }
        }
      ]
    },
    {
      "cell_type": "code",
      "metadata": {
        "id": "5eWeNIwHiW7S",
        "outputId": "91f46ca2-4226-4606-a729-549dd8f23296",
        "colab": {
          "base_uri": "https://localhost:8080/",
          "height": 241
        }
      },
      "source": [
        "df.head()\n"
      ],
      "execution_count": 29,
      "outputs": [
        {
          "output_type": "execute_result",
          "data": {
            "text/html": [
              "<div>\n",
              "<style scoped>\n",
              "    .dataframe tbody tr th:only-of-type {\n",
              "        vertical-align: middle;\n",
              "    }\n",
              "\n",
              "    .dataframe tbody tr th {\n",
              "        vertical-align: top;\n",
              "    }\n",
              "\n",
              "    .dataframe thead th {\n",
              "        text-align: right;\n",
              "    }\n",
              "</style>\n",
              "<table border=\"1\" class=\"dataframe\">\n",
              "  <thead>\n",
              "    <tr style=\"text-align: right;\">\n",
              "      <th></th>\n",
              "      <th>PAYS</th>\n",
              "      <th>Code</th>\n",
              "      <th>Ville</th>\n",
              "      <th>X</th>\n",
              "      <th>Y</th>\n",
              "      <th>Date</th>\n",
              "      <th>End of sampling</th>\n",
              "      <th>Duration(h.min)</th>\n",
              "      <th>I 131 (Bq/m3)</th>\n",
              "      <th>Cs 134 (Bq/m3)</th>\n",
              "      <th>Cs 137 (Bq/m3)</th>\n",
              "    </tr>\n",
              "  </thead>\n",
              "  <tbody>\n",
              "    <tr>\n",
              "      <th>0</th>\n",
              "      <td>SE</td>\n",
              "      <td>1</td>\n",
              "      <td>RISOE</td>\n",
              "      <td>12.07</td>\n",
              "      <td>55.7</td>\n",
              "      <td>86/04/27</td>\n",
              "      <td>24:00:00</td>\n",
              "      <td>24.0</td>\n",
              "      <td>1</td>\n",
              "      <td>0</td>\n",
              "      <td>0.24</td>\n",
              "    </tr>\n",
              "    <tr>\n",
              "      <th>1</th>\n",
              "      <td>SE</td>\n",
              "      <td>1</td>\n",
              "      <td>RISOE</td>\n",
              "      <td>12.07</td>\n",
              "      <td>55.7</td>\n",
              "      <td>86/04/28</td>\n",
              "      <td>24:00:00</td>\n",
              "      <td>24.0</td>\n",
              "      <td>0.0046</td>\n",
              "      <td>0.00054</td>\n",
              "      <td>0.00098</td>\n",
              "    </tr>\n",
              "    <tr>\n",
              "      <th>2</th>\n",
              "      <td>SE</td>\n",
              "      <td>1</td>\n",
              "      <td>RISOE</td>\n",
              "      <td>12.07</td>\n",
              "      <td>55.7</td>\n",
              "      <td>86/04/29</td>\n",
              "      <td>12:00</td>\n",
              "      <td>12.0</td>\n",
              "      <td>0.0147</td>\n",
              "      <td>0.0043</td>\n",
              "      <td>0.0074</td>\n",
              "    </tr>\n",
              "    <tr>\n",
              "      <th>3</th>\n",
              "      <td>SE</td>\n",
              "      <td>1</td>\n",
              "      <td>RISOE</td>\n",
              "      <td>12.07</td>\n",
              "      <td>55.7</td>\n",
              "      <td>86/04/29</td>\n",
              "      <td>24:00:00</td>\n",
              "      <td>12.0</td>\n",
              "      <td>0.00061</td>\n",
              "      <td>0</td>\n",
              "      <td>0.00009</td>\n",
              "    </tr>\n",
              "    <tr>\n",
              "      <th>4</th>\n",
              "      <td>SE</td>\n",
              "      <td>1</td>\n",
              "      <td>RISOE</td>\n",
              "      <td>12.07</td>\n",
              "      <td>55.7</td>\n",
              "      <td>86/04/30</td>\n",
              "      <td>24:00:00</td>\n",
              "      <td>24.0</td>\n",
              "      <td>0.00075</td>\n",
              "      <td>0.0001</td>\n",
              "      <td>0.00028</td>\n",
              "    </tr>\n",
              "  </tbody>\n",
              "</table>\n",
              "</div>"
            ],
            "text/plain": [
              "  PAYS  Code  Ville  ...  I 131 (Bq/m3)  Cs 134 (Bq/m3) Cs 137 (Bq/m3)\n",
              "0   SE     1  RISOE  ...              1               0           0.24\n",
              "1   SE     1  RISOE  ...         0.0046         0.00054        0.00098\n",
              "2   SE     1  RISOE  ...         0.0147          0.0043         0.0074\n",
              "3   SE     1  RISOE  ...        0.00061               0        0.00009\n",
              "4   SE     1  RISOE  ...        0.00075          0.0001        0.00028\n",
              "\n",
              "[5 rows x 11 columns]"
            ]
          },
          "metadata": {
            "tags": []
          },
          "execution_count": 29
        }
      ]
    },
    {
      "cell_type": "code",
      "metadata": {
        "id": "jxj6OhdDmnRP",
        "outputId": "5509ef05-ed54-4038-ea10-d90a48b4f6fe",
        "colab": {
          "base_uri": "https://localhost:8080/",
          "height": 241
        }
      },
      "source": [
        "df.tail()\n"
      ],
      "execution_count": 31,
      "outputs": [
        {
          "output_type": "execute_result",
          "data": {
            "text/html": [
              "<div>\n",
              "<style scoped>\n",
              "    .dataframe tbody tr th:only-of-type {\n",
              "        vertical-align: middle;\n",
              "    }\n",
              "\n",
              "    .dataframe tbody tr th {\n",
              "        vertical-align: top;\n",
              "    }\n",
              "\n",
              "    .dataframe thead th {\n",
              "        text-align: right;\n",
              "    }\n",
              "</style>\n",
              "<table border=\"1\" class=\"dataframe\">\n",
              "  <thead>\n",
              "    <tr style=\"text-align: right;\">\n",
              "      <th></th>\n",
              "      <th>PAYS</th>\n",
              "      <th>Code</th>\n",
              "      <th>Ville</th>\n",
              "      <th>X</th>\n",
              "      <th>Y</th>\n",
              "      <th>Date</th>\n",
              "      <th>End of sampling</th>\n",
              "      <th>Duration(h.min)</th>\n",
              "      <th>I 131 (Bq/m3)</th>\n",
              "      <th>Cs 134 (Bq/m3)</th>\n",
              "      <th>Cs 137 (Bq/m3)</th>\n",
              "    </tr>\n",
              "  </thead>\n",
              "  <tbody>\n",
              "    <tr>\n",
              "      <th>2046</th>\n",
              "      <td>HU</td>\n",
              "      <td>24</td>\n",
              "      <td>BUDAPEST</td>\n",
              "      <td>19.1</td>\n",
              "      <td>47.5</td>\n",
              "      <td>86/05/07</td>\n",
              "      <td>8:00</td>\n",
              "      <td>24.0</td>\n",
              "      <td>3.7</td>\n",
              "      <td>0.58</td>\n",
              "      <td>1.2</td>\n",
              "    </tr>\n",
              "    <tr>\n",
              "      <th>2047</th>\n",
              "      <td>HU</td>\n",
              "      <td>24</td>\n",
              "      <td>BUDAPEST</td>\n",
              "      <td>19.1</td>\n",
              "      <td>47.5</td>\n",
              "      <td>86/05/08</td>\n",
              "      <td>8:00</td>\n",
              "      <td>24.0</td>\n",
              "      <td>2.2</td>\n",
              "      <td>0.33</td>\n",
              "      <td>0.69</td>\n",
              "    </tr>\n",
              "    <tr>\n",
              "      <th>2048</th>\n",
              "      <td>HU</td>\n",
              "      <td>24</td>\n",
              "      <td>BUDAPEST</td>\n",
              "      <td>19.1</td>\n",
              "      <td>47.5</td>\n",
              "      <td>86/05/09</td>\n",
              "      <td>8:00</td>\n",
              "      <td>24.0</td>\n",
              "      <td>0.75</td>\n",
              "      <td>0.14</td>\n",
              "      <td>0.29</td>\n",
              "    </tr>\n",
              "    <tr>\n",
              "      <th>2049</th>\n",
              "      <td>HU</td>\n",
              "      <td>24</td>\n",
              "      <td>BUDAPEST</td>\n",
              "      <td>19.1</td>\n",
              "      <td>47.5</td>\n",
              "      <td>86/05/10</td>\n",
              "      <td>8:00</td>\n",
              "      <td>24.0</td>\n",
              "      <td>0.054</td>\n",
              "      <td>0.006</td>\n",
              "      <td>0.009</td>\n",
              "    </tr>\n",
              "    <tr>\n",
              "      <th>2050</th>\n",
              "      <td>HU</td>\n",
              "      <td>24</td>\n",
              "      <td>BUDAPEST</td>\n",
              "      <td>19.1</td>\n",
              "      <td>47.5</td>\n",
              "      <td>86/05/11</td>\n",
              "      <td>8:00</td>\n",
              "      <td>24.0</td>\n",
              "      <td>0.051</td>\n",
              "      <td>0.006</td>\n",
              "      <td>0.01</td>\n",
              "    </tr>\n",
              "  </tbody>\n",
              "</table>\n",
              "</div>"
            ],
            "text/plain": [
              "     PAYS  Code     Ville  ...  I 131 (Bq/m3)  Cs 134 (Bq/m3) Cs 137 (Bq/m3)\n",
              "2046   HU    24  BUDAPEST  ...            3.7            0.58            1.2\n",
              "2047   HU    24  BUDAPEST  ...            2.2            0.33           0.69\n",
              "2048   HU    24  BUDAPEST  ...           0.75            0.14           0.29\n",
              "2049   HU    24  BUDAPEST  ...          0.054           0.006          0.009\n",
              "2050   HU    24  BUDAPEST  ...          0.051           0.006           0.01\n",
              "\n",
              "[5 rows x 11 columns]"
            ]
          },
          "metadata": {
            "tags": []
          },
          "execution_count": 31
        }
      ]
    },
    {
      "cell_type": "code",
      "metadata": {
        "id": "Uou0aNbl0mYq"
      },
      "source": [
        "import seaborn as sns\n",
        "import matplotlib.pyplot as plt\n",
        "fig=plt.figure(figsize=(10,6))\n",
        "ax=sns.lineplot()\n",
        "plt.show()"
      ],
      "execution_count": null,
      "outputs": []
    }
  ]
}